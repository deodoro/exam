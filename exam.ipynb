{
 "cells": [
  {
   "cell_type": "markdown",
   "metadata": {},
   "source": [
    "## 1. Due to a processing error, your system is removing spaces from messages. For instance:"
   ]
  },
  {
   "cell_type": "code",
   "execution_count": null,
   "metadata": {},
   "outputs": [],
   "source": [
    "received = “thefitnessofalinearmodel”\n",
    "expected = “the fitness of a linear model”"
   ]
  },
  {
   "cell_type": "markdown",
   "metadata": {},
   "source": [
    "Write a function to revert messages to their original form, by adding proper spaces. You may start from this skeleton:"
   ]
  },
  {
   "cell_type": "code",
   "execution_count": 10,
   "metadata": {},
   "outputs": [],
   "source": [
    "def unscramble(message):\n",
    "    pass"
   ]
  },
  {
   "cell_type": "markdown",
   "metadata": {},
   "source": [
    "You may use the following array as a simplified English dictionary"
   ]
  },
  {
   "cell_type": "code",
   "execution_count": 7,
   "metadata": {},
   "outputs": [],
   "source": [
    "dict = [\"a\",\"body\",\"books\",\"but\",\"destination\",\"fit\",\"fitness\",\"friend\",\"friendship\",\"happy\",\"is\",\"it\",\"lack\",\"like\",\"linear\",\"love\",\"makes\",\"marriages\",\"mars\",\"model\",\"nation\",\"not\",\"of\",\"out\",\"room\",\"ship\",\"soul\",\"that\",\"the\",\"unhappy\",\"with\",\"without\"]"
   ]
  },
  {
   "cell_type": "markdown",
   "metadata": {},
   "source": [
    "Furthermore, you may use the following tests to verify your work:"
   ]
  },
  {
   "cell_type": "code",
   "execution_count": null,
   "metadata": {},
   "outputs": [],
   "source": [
    "assert unscramble(\"thefitnessofalinearmodel\") == \"the fitness of a linear model\"\n",
    "assert unscramble(\"destination:mars\") == \"destination: mars\"\n",
    "assert unscramble(\"aroomwithoutbooksislikeabodywithoutasoul\") == \"a room without books is like a body without a soul\"\n",
    "assert unscramble(\"itisnotalackoflove,butalackoffriendshipthatmakesunhappymarriages\") == \"it is not a lack of love, but a lack of friendship that makes unhappy marriages\""
   ]
  },
  {
   "cell_type": "markdown",
   "metadata": {},
   "source": [
    "## 2. Write a function that calculates the smallest angle (in degrees) between hour and minute hands of an analog clock."
   ]
  },
  {
   "cell_type": "code",
   "execution_count": null,
   "metadata": {},
   "outputs": [],
   "source": [
    "def shortest_angle(time):\n",
    "    pass"
   ]
  },
  {
   "cell_type": "markdown",
   "metadata": {},
   "source": [
    "You may use the following tests to verify your work:"
   ]
  },
  {
   "cell_type": "code",
   "execution_count": null,
   "metadata": {},
   "outputs": [],
   "source": [
    "assert shortest_angle(\"5:30\") == 15\n",
    "assert shortest_angle(\"9:00\") == 90\n",
    "assert shortest_angle(\"12:00\") == 0"
   ]
  }
 ],
 "metadata": {
  "kernelspec": {
   "display_name": "Python 3",
   "language": "python",
   "name": "python3"
  },
  "language_info": {
   "codemirror_mode": {
    "name": "ipython",
    "version": 3
   },
   "file_extension": ".py",
   "mimetype": "text/x-python",
   "name": "python",
   "nbconvert_exporter": "python",
   "pygments_lexer": "ipython3",
   "version": "3.8.3"
  }
 },
 "nbformat": 4,
 "nbformat_minor": 4
}
